{
 "cells": [
  {
   "cell_type": "markdown",
   "id": "cee890d7",
   "metadata": {},
   "source": [
    "# LGMVIP-DATA SCIENCE INTERNSHIP\n",
    "\n"
   ]
  },
  {
   "cell_type": "markdown",
   "id": "c7f799eb",
   "metadata": {},
   "source": [
    "# NAME: PRAJWAL DIWAKAR"
   ]
  },
  {
   "cell_type": "markdown",
   "id": "725e08e2",
   "metadata": {},
   "source": [
    "# TASK-1:IMAGE TO PENCIL SKETCH WITH PYTHON\n"
   ]
  },
  {
   "cell_type": "markdown",
   "id": "aadfcc43",
   "metadata": {},
   "source": [
    "# Importing libraries"
   ]
  },
  {
   "cell_type": "code",
   "execution_count": 1,
   "id": "05e5d2b1",
   "metadata": {},
   "outputs": [
    {
     "ename": "ModuleNotFoundError",
     "evalue": "No module named 'cv2'",
     "output_type": "error",
     "traceback": [
      "\u001b[1;31m---------------------------------------------------------------------------\u001b[0m",
      "\u001b[1;31mModuleNotFoundError\u001b[0m                       Traceback (most recent call last)",
      "\u001b[1;32m~\\AppData\\Local\\Temp/ipykernel_3548/1150301474.py\u001b[0m in \u001b[0;36m<module>\u001b[1;34m\u001b[0m\n\u001b[1;32m----> 1\u001b[1;33m \u001b[1;32mimport\u001b[0m \u001b[0mcv2\u001b[0m\u001b[1;33m\u001b[0m\u001b[1;33m\u001b[0m\u001b[0m\n\u001b[0m\u001b[0;32m      2\u001b[0m \u001b[1;32mimport\u001b[0m \u001b[0mmatplotlib\u001b[0m\u001b[1;33m.\u001b[0m\u001b[0mpyplot\u001b[0m \u001b[1;32mas\u001b[0m \u001b[0mpt\u001b[0m\u001b[1;33m\u001b[0m\u001b[1;33m\u001b[0m\u001b[0m\n",
      "\u001b[1;31mModuleNotFoundError\u001b[0m: No module named 'cv2'"
     ]
    }
   ],
   "source": [
    "import cv2\n",
    "import matplotlib.pyplot as pt"
   ]
  },
  {
   "cell_type": "markdown",
   "id": "b3a03b61",
   "metadata": {},
   "source": [
    "## loading the original image"
   ]
  },
  {
   "cell_type": "markdown",
   "id": "0edffe20",
   "metadata": {},
   "source": [
    "### first step is to load the image using imread() method and cvtColor() used to convert an image from one color space to another."
   ]
  },
  {
   "cell_type": "markdown",
   "id": "bf1ad66b",
   "metadata": {},
   "source": [
    "### here BGR(blue,gray,red) to RGB(red,gray,blue)"
   ]
  },
  {
   "cell_type": "code",
   "execution_count": 2,
   "id": "e19558fc",
   "metadata": {},
   "outputs": [
    {
     "ename": "SyntaxError",
     "evalue": "(unicode error) 'unicodeescape' codec can't decode bytes in position 2-3: truncated \\UXXXXXXXX escape (Temp/ipykernel_3548/3377093592.py, line 1)",
     "output_type": "error",
     "traceback": [
      "\u001b[1;36m  File \u001b[1;32m\"C:\\Users\\PAJJU\\AppData\\Local\\Temp/ipykernel_3548/3377093592.py\"\u001b[1;36m, line \u001b[1;32m1\u001b[0m\n\u001b[1;33m    img=cv2.imread('C:\\Users\\PAJJU\\Pictures\\nature.jpg')\u001b[0m\n\u001b[1;37m                                                       ^\u001b[0m\n\u001b[1;31mSyntaxError\u001b[0m\u001b[1;31m:\u001b[0m (unicode error) 'unicodeescape' codec can't decode bytes in position 2-3: truncated \\UXXXXXXXX escape\n"
     ]
    }
   ],
   "source": [
    "img=cv2.imread('C:\\Users\\PAJJU\\Pictures\\nature.jpg')\n",
    "img=cv2.cvtColor(img,cv2.COLOR_BGR2RGB)\n",
    "pt.figure(figsize=(8,8))\n",
    "pt.axis(\"off\")\n",
    "pt.title(\"original image\")\n",
    "pt.imshow(img)"
   ]
  },
  {
   "cell_type": "code",
   "execution_count": null,
   "id": "3e8e645e",
   "metadata": {},
   "outputs": [],
   "source": []
  }
 ],
 "metadata": {
  "kernelspec": {
   "display_name": "Python 3 (ipykernel)",
   "language": "python",
   "name": "python3"
  },
  "language_info": {
   "codemirror_mode": {
    "name": "ipython",
    "version": 3
   },
   "file_extension": ".py",
   "mimetype": "text/x-python",
   "name": "python",
   "nbconvert_exporter": "python",
   "pygments_lexer": "ipython3",
   "version": "3.10.0rc2"
  }
 },
 "nbformat": 4,
 "nbformat_minor": 5
}
